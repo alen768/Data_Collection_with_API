{
  "nbformat": 4,
  "nbformat_minor": 0,
  "metadata": {
    "colab": {
      "provenance": [],
      "authorship_tag": "ABX9TyNqqGVXVYDUXdy+fw+7VL5s",
      "include_colab_link": true
    },
    "kernelspec": {
      "name": "python3",
      "display_name": "Python 3"
    },
    "language_info": {
      "name": "python"
    }
  },
  "cells": [
    {
      "cell_type": "markdown",
      "metadata": {
        "id": "view-in-github",
        "colab_type": "text"
      },
      "source": [
        "<a href=\"https://colab.research.google.com/github/alen768/Data_Collection_with_API/blob/main/Data_Collection(withAPI).ipynb\" target=\"_parent\"><img src=\"https://colab.research.google.com/assets/colab-badge.svg\" alt=\"Open In Colab\"/></a>"
      ]
    },
    {
      "cell_type": "code",
      "execution_count": 2,
      "metadata": {
        "id": "2Id4R_7uWjxa"
      },
      "outputs": [],
      "source": [
        "import requests\n",
        "import base64"
      ]
    },
    {
      "cell_type": "code",
      "source": [
        "CLIENT_ID = 'CLIENT ID OF YOURS'\n",
        "CLIENT_SECRET = 'CLIENT SECRET OF YOURS'"
      ],
      "metadata": {
        "id": "LUvIYVnrhZJF"
      },
      "execution_count": 12,
      "outputs": []
    },
    {
      "cell_type": "code",
      "source": [
        "#base64 encode the client id and client secret\n",
        "client_credentials = f\"{CLIENT_ID}:{CLIENT_SECRET}\"\n",
        "client_credentials_base64 = base64.b64encode(client_credentials.encode())"
      ],
      "metadata": {
        "id": "uBvgVGJJhlxi"
      },
      "execution_count": 4,
      "outputs": []
    },
    {
      "cell_type": "code",
      "source": [
        "#request access token\n",
        "token_url = \"https://accounts.spotify.com/api/token\"\n",
        "\n",
        "headers = {\n",
        "    'Authorization' : f'Basic {client_credentials_base64.decode()}'\n",
        "}\n",
        "\n",
        "data = {\n",
        "    'grant_type': 'client_credentials'\n",
        "}\n",
        "\n",
        "response = requests.post(token_url, data=data, headers=headers)\n",
        "\n",
        "if response.status_code == 200:\n",
        "  access_token = response.json()['access_token']\n",
        "  print(\"Access token obtained successfully\")\n",
        "else:\n",
        "  print(\"Error obtaining access token\")\n",
        "  exit()"
      ],
      "metadata": {
        "colab": {
          "base_uri": "https://localhost:8080/"
        },
        "id": "Rlp2u0rZiGZx",
        "outputId": "81016486-5fd3-4659-e934-579af95e3287"
      },
      "execution_count": 5,
      "outputs": [
        {
          "output_type": "stream",
          "name": "stdout",
          "text": [
            "Access token obtained successfully\n"
          ]
        }
      ]
    },
    {
      "cell_type": "code",
      "source": [
        "pip install spotipy"
      ],
      "metadata": {
        "colab": {
          "base_uri": "https://localhost:8080/"
        },
        "collapsed": true,
        "id": "PhYq_7tdjAQG",
        "outputId": "401fd366-8962-4aad-c1b8-7078d3aeff13"
      },
      "execution_count": 6,
      "outputs": [
        {
          "output_type": "stream",
          "name": "stdout",
          "text": [
            "Collecting spotipy\n",
            "  Downloading spotipy-2.24.0-py3-none-any.whl (30 kB)\n",
            "Collecting redis>=3.5.3 (from spotipy)\n",
            "  Downloading redis-5.0.6-py3-none-any.whl (252 kB)\n",
            "\u001b[2K     \u001b[90m━━━━━━━━━━━━━━━━━━━━━━━━━━━━━━━━━━━━━━━━\u001b[0m \u001b[32m252.0/252.0 kB\u001b[0m \u001b[31m6.2 MB/s\u001b[0m eta \u001b[36m0:00:00\u001b[0m\n",
            "\u001b[?25hRequirement already satisfied: requests>=2.25.0 in /usr/local/lib/python3.10/dist-packages (from spotipy) (2.31.0)\n",
            "Requirement already satisfied: urllib3>=1.26.0 in /usr/local/lib/python3.10/dist-packages (from spotipy) (2.0.7)\n",
            "Requirement already satisfied: async-timeout>=4.0.3 in /usr/local/lib/python3.10/dist-packages (from redis>=3.5.3->spotipy) (4.0.3)\n",
            "Requirement already satisfied: charset-normalizer<4,>=2 in /usr/local/lib/python3.10/dist-packages (from requests>=2.25.0->spotipy) (3.3.2)\n",
            "Requirement already satisfied: idna<4,>=2.5 in /usr/local/lib/python3.10/dist-packages (from requests>=2.25.0->spotipy) (3.7)\n",
            "Requirement already satisfied: certifi>=2017.4.17 in /usr/local/lib/python3.10/dist-packages (from requests>=2.25.0->spotipy) (2024.6.2)\n",
            "Installing collected packages: redis, spotipy\n",
            "Successfully installed redis-5.0.6 spotipy-2.24.0\n"
          ]
        }
      ]
    },
    {
      "cell_type": "code",
      "source": [
        "import pandas as pd\n",
        "import spotipy\n",
        "from spotipy.oauth2 import SpotifyOAuth\n",
        "\n",
        "def get_trending_playlist_data(playlist_id, access_token):\n",
        "\n",
        "  #set up spotipy with access token\n",
        "  sp = spotipy.Spotify(auth=access_token)\n",
        "\n",
        "  #getting tracks from the playlist\n",
        "  playlist_tracks = sp.playlist_tracks(playlist_id, fields='items(track(id,name,artists,album(id,name)))')\n",
        "\n",
        "  #extracting relevant info and storing it in a list of dictionaries\n",
        "  music_data = []\n",
        "  for track_info in playlist_tracks['items']:\n",
        "    track = track_info['track']\n",
        "    track_name = track['name']\n",
        "    artists = ','.join([artist['name'] for artist in track['artists']])\n",
        "    album_name = track['album']['name']\n",
        "    album_id = track['album']['id']\n",
        "    track_id = track['id']\n",
        "\n",
        "    #getting audio feautures for the track\n",
        "    audio_features = sp.audio_features(track_id)[0] if track_id != 'Not available' else None\n",
        "\n",
        "    #getting release date of albums\n",
        "    try:\n",
        "      album_info = sp.album(album_id) if album_id != 'Not available' else None\n",
        "      release_date = album_info['release_date'] if album_info else None\n",
        "    except:\n",
        "      release_date = None\n",
        "\n",
        "    #getting popularity of the track\n",
        "    try:\n",
        "      track_info = sp.track(track_id) if track_id != 'Not available' else None\n",
        "      popularity = track_info['popularity'] if track_info else None\n",
        "    except:\n",
        "      popularity = None\n",
        "\n",
        "    #adding additional track information to track data\n",
        "    track_data = {\n",
        "        'Track Name' : track_name,\n",
        "        'Artists' : artists,\n",
        "        'Album Name' : album_name,\n",
        "        'Album ID' : album_id,\n",
        "        'Track ID' : track_id,\n",
        "        'Popularity' : popularity,\n",
        "        'Release Date' : release_date,\n",
        "        'Duration(ms)' : audio_features['duration_ms'] if audio_features else None,\n",
        "        'Explicit' : track_info.get('explicit',None),\n",
        "        'External URLs' : track_info.get('external_urls', {}).get('spotify', None),\n",
        "        'Danceability' : audio_features['danceability'] if audio_features else None,\n",
        "        'Energy' : audio_features['energy'] if audio_features else None,\n",
        "        'Key' : audio_features['key'] if audio_features else None,\n",
        "        'Loudness' : audio_features['loudness'] if audio_features else None,\n",
        "        'Mode' : audio_features['mode'] if audio_features else None,\n",
        "        'Speechiness' : audio_features['speechiness'] if audio_features else None,\n",
        "        'Acousticness' : audio_features['acousticness'] if audio_features else None,\n",
        "        'Instrumentalness' : audio_features['instrumentalness'] if audio_features else None,\n",
        "        'Liveness' : audio_features['liveness'] if audio_features else None,\n",
        "        'Valence' : audio_features['valence'] if audio_features else None,\n",
        "        'Tempo' : audio_features['tempo'] if audio_features else None,\n",
        "    }\n",
        "\n",
        "    music_data.append(track_data)\n",
        "\n",
        "  #creating a pandas DataFrame from the list of dictionary\n",
        "    df = pd.DataFrame(music_data)\n",
        "    return df"
      ],
      "metadata": {
        "id": "DKadyjxDjP-E"
      },
      "execution_count": 8,
      "outputs": []
    },
    {
      "cell_type": "code",
      "source": [
        "#taking any playlist id from spotify\n",
        "playlist_id = '37i9dQZF1E39c9drv2MTb2'\n",
        "\n",
        "#calling the function and storing it in a dataframe\n",
        "music_df = get_trending_playlist_data(playlist_id,access_token)\n",
        "print(music_df)"
      ],
      "metadata": {
        "colab": {
          "base_uri": "https://localhost:8080/"
        },
        "id": "jdqfJeRMMBR2",
        "outputId": "bacd502e-5598-4605-a9ab-eaffec5b2b9e"
      },
      "execution_count": 11,
      "outputs": [
        {
          "output_type": "stream",
          "name": "stdout",
          "text": [
            "  Track Name              Artists  \\\n",
            "0  Kadharalz  Anirudh Ravichander   \n",
            "\n",
            "                                      Album Name                Album ID  \\\n",
            "0  Indian 2 (Original Motion Picture Soundtrack)  2odSkyvlROPRtPYsr2lE0l   \n",
            "\n",
            "                 Track ID  Popularity Release Date  Duration(ms)  Explicit  \\\n",
            "0  77OQsnAirm7Ke8EGgBeOxz          62   2024-06-01        234023     False   \n",
            "\n",
            "                                       External URLs  ...  Energy  Key  \\\n",
            "0  https://open.spotify.com/track/77OQsnAirm7Ke8E...  ...   0.902    1   \n",
            "\n",
            "   Loudness  Mode  Speechiness  Acousticness  Instrumentalness  Liveness  \\\n",
            "0    -5.411     1        0.298        0.0638           0.00466     0.539   \n",
            "\n",
            "   Valence    Tempo  \n",
            "0    0.735  160.025  \n",
            "\n",
            "[1 rows x 21 columns]\n"
          ]
        }
      ]
    },
    {
      "cell_type": "code",
      "source": [
        "#saving as CSV file if needed\n",
        "#music_df.to_csv('musicdata.csv')"
      ],
      "metadata": {
        "id": "Enzp0N_qOHM2"
      },
      "execution_count": null,
      "outputs": []
    }
  ]
}